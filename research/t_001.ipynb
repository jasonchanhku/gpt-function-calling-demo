{
 "cells": [
  {
   "attachments": {},
   "cell_type": "markdown",
   "metadata": {},
   "source": [
    "## References and important URLS requirements- \n",
    "\n",
    "- [1] https://openai.com/blog/function-calling-and-other-api-updates\n",
    "- [2] https://github.com/openai/openai-cookbook/blob/main/examples/How_to_call_functions_with_chat_models.ipynb\n",
    "- [3] https://rapidapi.com/weatherapi/api/weatherapi-com/\n",
    "- [4] https://platform.openai.com/account/api-keys"
   ]
  },
  {
   "cell_type": "code",
   "execution_count": 1,
   "metadata": {},
   "outputs": [
    {
     "data": {
      "text/plain": [
       "'/workspaces/gpt-function-calling-demo'"
      ]
     },
     "execution_count": 1,
     "metadata": {},
     "output_type": "execute_result"
    }
   ],
   "source": [
    "import os\n",
    "ROOT = \"/workspaces/gpt-function-calling-demo/\"\n",
    "os.chdir(ROOT)\n",
    "os.getcwd()"
   ]
  },
  {
   "attachments": {},
   "cell_type": "markdown",
   "metadata": {},
   "source": [
    "# Previous ways - \n",
    "\n",
    "## Via Openai Python ChatCompletion class- \n",
    "\n",
    "```python\n",
    "import os\n",
    "import openai\n",
    "openai.api_key = os.getenv(\"OPENAI_API_KEY\")\n",
    "\n",
    "completion = openai.ChatCompletion.create(\n",
    "  model=\"gpt-3.5-turbo\",\n",
    "  messages=[\n",
    "    {\"role\": \"system\", \"content\": \"You are a helpful assistant.\"},\n",
    "    {\"role\": \"user\", \"content\": \"Hello!\"}\n",
    "  ]\n",
    ")\n",
    "\n",
    "print(completion.choices[0].message)\n",
    "```"
   ]
  },
  {
   "attachments": {},
   "cell_type": "markdown",
   "metadata": {},
   "source": [
    "## Via CURL command\n",
    "\n",
    "```bash\n",
    "curl https://api.openai.com/v1/chat/completions \\\n",
    "  -H \"Content-Type: application/json\" \\\n",
    "  -H \"Authorization: Bearer $OPENAI_API_KEY\" \\\n",
    "  -d '{\n",
    "    \"model\": \"gpt-3.5-turbo\",\n",
    "    \"messages\": [\n",
    "      {\"role\": \"system\", \"content\": \"You are a helpful assistant.\"}, \n",
    "      {\"role\": \"user\", \"content\": \"Hello!\"}\n",
    "      ]\n",
    "  }'\n",
    "```"
   ]
  },
  {
   "attachments": {},
   "cell_type": "markdown",
   "metadata": {},
   "source": [
    "## Via requests module\n",
    "\n",
    "```python\n",
    "import requests\n",
    "\n",
    "headers = {\n",
    "    \"Content-Type\": \"application/json\",\n",
    "    \"Authorization\": \"Bearer \" + OPENAI_API_KEY,\n",
    "}\n",
    "json_data = {\n",
    "    \"model\": \"gpt-3.5-turbo\", \n",
    "    \"messages\": [\n",
    "        {\"role\": \"system\", \"content\": \"You are a helpful assistant.\"}, \n",
    "        {\"role\": \"user\", \"content\": \"Hello!\"}\n",
    "        ]}\n",
    "response = requests.post(\n",
    "    \"https://api.openai.com/v1/chat/completions\",\n",
    "    headers=headers,\n",
    "    json=json_data,\n",
    ")\n",
    "```\n"
   ]
  },
  {
   "attachments": {},
   "cell_type": "markdown",
   "metadata": {},
   "source": [
    "## Weather Chatbot example"
   ]
  },
  {
   "cell_type": "code",
   "execution_count": 2,
   "metadata": {},
   "outputs": [],
   "source": [
    "import requests\n",
    "from dotenv import load_dotenv\n",
    "import json\n",
    "load_dotenv()\n",
    "\n",
    "OPENAI_API_KEY = os.getenv(\"OPENAI_API_KEY\")\n",
    "GPT_MODEL = \"gpt-3.5-turbo-0613\" # new model for function calling abilities"
   ]
  },
  {
   "attachments": {},
   "cell_type": "markdown",
   "metadata": {},
   "source": [
    "## Checkout the following example - \n",
    "\n",
    "```bash\n",
    "curl https://api.openai.com/v1/chat/completions -u :$OPENAI_API_KEY -H 'Content-Type: application/json' -d '{\n",
    "  \"model\": \"gpt-3.5-turbo-0613\",\n",
    "  \"messages\": [\n",
    "    {\"role\": \"user\", \"content\": \"What is the weather like in Boston?\"}\n",
    "  ],\n",
    "  \"functions\": [\n",
    "    {\n",
    "      \"name\": \"get_current_weather\",\n",
    "      \"description\": \"Get the current weather in a given location\",\n",
    "      \"parameters\": {\n",
    "        \"type\": \"object\",\n",
    "        \"properties\": {\n",
    "          \"location\": {\n",
    "            \"type\": \"string\",\n",
    "            \"description\": \"The city and state, e.g. San Francisco, CA\"\n",
    "          },\n",
    "          \"unit\": {\n",
    "            \"type\": \"string\",\n",
    "            \"enum\": [\"celsius\", \"fahrenheit\"]\n",
    "          }\n",
    "        },\n",
    "        \"required\": [\"location\"]\n",
    "      }\n",
    "    }\n",
    "  ]\n",
    "}'\n",
    "```\n",
    "\n",
    "focus on the function keyword and the details under it can be found in a functions docstring. So from the above function description,\n",
    "you can assume the `get_current_weather` as follows - \n",
    "\n",
    "```python\n",
    "def get_current_weather(location, unit):\n",
    "    \"\"\"Get the current weather in a given location\n",
    "\n",
    "    Args:\n",
    "        location (str): The city and state, e.g. San Francisco, CA\n",
    "        unit (str): [\"celsius\", \"fahrenheit\"]\n",
    "    \"\"\"\n",
    "    pass\n",
    "```"
   ]
  },
  {
   "cell_type": "code",
   "execution_count": 3,
   "metadata": {},
   "outputs": [],
   "source": [
    "import requests\n",
    "\n",
    "def chat_completion_request(messages, functions=None, function_call=None, model=GPT_MODEL):\n",
    "    headers = {\n",
    "        \"Content-Type\": \"application/json\",\n",
    "        \"Authorization\": \"Bearer \" + OPENAI_API_KEY,\n",
    "    }\n",
    "    json_data = {\n",
    "        \"model\": model, \n",
    "        \"messages\": messages\n",
    "        }\n",
    "    if functions is not None:\n",
    "        json_data.update({\"functions\": functions})\n",
    "    if function_call is not None:\n",
    "        json_data.update({\"function_call\": function_call})\n",
    "    try:\n",
    "        response = requests.post(\n",
    "            \"https://api.openai.com/v1/chat/completions\",\n",
    "            headers=headers,\n",
    "            json=json_data,\n",
    "        )\n",
    "\n",
    "        return response\n",
    "    except Exception as e:\n",
    "        print(f\"\\n>>>> Unable to generate ChatCompletion response\")\n",
    "        print(f\"\\n>>>> Exception: {e}\")\n",
    "        raise e"
   ]
  },
  {
   "cell_type": "code",
   "execution_count": 4,
   "metadata": {},
   "outputs": [
    {
     "data": {
      "text/plain": [
       "<Response [200]>"
      ]
     },
     "execution_count": 4,
     "metadata": {},
     "output_type": "execute_result"
    }
   ],
   "source": [
    "# simple use\n",
    "\n",
    "sample_messages = [\n",
    "    {\"role\": \"system\", \"content\": \"you are a helpful assistant\"},\n",
    "    {\"role\": \"user\", \"content\": \"Hi there\"},\n",
    "]\n",
    "\n",
    "chat_response = chat_completion_request(messages=sample_messages)\n",
    "\n",
    "chat_response"
   ]
  },
  {
   "cell_type": "code",
   "execution_count": 5,
   "metadata": {},
   "outputs": [
    {
     "data": {
      "text/plain": [
       "{'id': 'chatcmpl-7zj95HSLzUVt83IWs1Xr7ei2DsCEs',\n",
       " 'object': 'chat.completion',\n",
       " 'created': 1694945903,\n",
       " 'model': 'gpt-3.5-turbo-0613',\n",
       " 'choices': [{'index': 0,\n",
       "   'message': {'role': 'assistant',\n",
       "    'content': 'Hello! How can I assist you today?'},\n",
       "   'finish_reason': 'stop'}],\n",
       " 'usage': {'prompt_tokens': 18, 'completion_tokens': 9, 'total_tokens': 27}}"
      ]
     },
     "execution_count": 5,
     "metadata": {},
     "output_type": "execute_result"
    }
   ],
   "source": [
    "chat_response.json()"
   ]
  },
  {
   "cell_type": "code",
   "execution_count": 6,
   "metadata": {},
   "outputs": [
    {
     "data": {
      "text/plain": [
       "{'role': 'assistant', 'content': 'Hello! How can I assist you today?'}"
      ]
     },
     "execution_count": 6,
     "metadata": {},
     "output_type": "execute_result"
    }
   ],
   "source": [
    "assistant_message = chat_response.json()[\"choices\"][0][\"message\"]\n",
    "assistant_message"
   ]
  },
  {
   "cell_type": "code",
   "execution_count": 7,
   "metadata": {},
   "outputs": [],
   "source": [
    "creator_name = \"chajasc\"\n",
    "\n",
    "system_instruction = f\"\"\"\n",
    "You are Weather bot created by {creator_name}, \\\n",
    "You first greet the customer, and you MUST introduce yourself as -\n",
    "\"Hi I am Weather bot created by {creator_name}! How may I assist you today?\" \\\n",
    "an automated service to tell Weather infomation \\\n",
    "based on the location provided by the user. \\\n",
    "then collects the location information\\\n",
    "Don't make assumptions about what \\\n",
    "values to plug into functions. \\\n",
    "Ask for clarification if a user request is ambiguous.\n",
    "You respond in a short, very conversational friendly style. \\\n",
    "\"\"\""
   ]
  },
  {
   "cell_type": "code",
   "execution_count": 8,
   "metadata": {},
   "outputs": [],
   "source": [
    "messages = [\n",
    "    {\"role\": \"system\", \"content\": system_instruction}\n",
    "]"
   ]
  },
  {
   "cell_type": "code",
   "execution_count": 9,
   "metadata": {},
   "outputs": [],
   "source": [
    "functions = [\n",
    "    {\n",
    "        \"name\": \"get_current_weather\", # name of your function\n",
    "        \"description\": \"Get the current weather\", # description of your function\n",
    "        \"parameters\": {\n",
    "            \"type\": \"object\",\n",
    "            \"properties\": { # 1st argument of your function\n",
    "                \"location\": { # argument name\n",
    "                    \"type\": \"string\", # argument type\n",
    "                    \"description\": \"The city and state, e.g. San Francisco, CA\", # description of your function with example\n",
    "                }\n",
    "            },\n",
    "            \"required\": [\"location\"], # required argument of your\n",
    "        },\n",
    "    }\n",
    "]"
   ]
  },
  {
   "cell_type": "code",
   "execution_count": 10,
   "metadata": {},
   "outputs": [],
   "source": [
    "def get_current_weather(location):\n",
    "    RAPID_API_KEY = os.getenv(\"RAPID_API_KEY\")\n",
    "    try:\n",
    "        url = \"https://weatherapi-com.p.rapidapi.com/current.json\"\n",
    "\n",
    "        querystring = {\"q\": location}\n",
    "        print(f\"\\n>>>> got the querystring as: {querystring}\")\n",
    "        headers = {\n",
    "            \"X-RapidAPI-Key\": RAPID_API_KEY,\n",
    "            \"X-RapidAPI-Host\": \"weatherapi-com.p.rapidapi.com\"\n",
    "        }\n",
    "\n",
    "        response = requests.get(url, headers=headers, params=querystring)\n",
    "        response_json = response.json()\n",
    "        print(f\"\\n>>>> got the RAPID API response as: \\n{response_json}\")\n",
    "        return response_json\n",
    "    except Exception as e:\n",
    "        raise e"
   ]
  },
  {
   "cell_type": "code",
   "execution_count": 11,
   "metadata": {},
   "outputs": [],
   "source": [
    "user_message = \"Hi there!\"\n",
    "messages.append({\"role\": \"user\", \"content\": user_message})\n",
    "chat_response = chat_completion_request(messages = messages, functions = functions)"
   ]
  },
  {
   "cell_type": "code",
   "execution_count": 12,
   "metadata": {},
   "outputs": [
    {
     "data": {
      "text/plain": [
       "<Response [200]>"
      ]
     },
     "execution_count": 12,
     "metadata": {},
     "output_type": "execute_result"
    }
   ],
   "source": [
    "chat_response"
   ]
  },
  {
   "cell_type": "code",
   "execution_count": 13,
   "metadata": {},
   "outputs": [
    {
     "data": {
      "text/plain": [
       "{'id': 'chatcmpl-7zjAQI3LXoFfQaJ5YWrpTBYiGtbnn',\n",
       " 'object': 'chat.completion',\n",
       " 'created': 1694945986,\n",
       " 'model': 'gpt-3.5-turbo-0613',\n",
       " 'choices': [{'index': 0,\n",
       "   'message': {'role': 'assistant',\n",
       "    'content': 'Hi there! How may I assist you today?'},\n",
       "   'finish_reason': 'stop'}],\n",
       " 'usage': {'prompt_tokens': 163, 'completion_tokens': 11, 'total_tokens': 174}}"
      ]
     },
     "execution_count": 13,
     "metadata": {},
     "output_type": "execute_result"
    }
   ],
   "source": [
    "chat_response.json()"
   ]
  },
  {
   "cell_type": "code",
   "execution_count": 14,
   "metadata": {},
   "outputs": [
    {
     "data": {
      "text/plain": [
       "{'role': 'assistant', 'content': 'Hi there! How may I assist you today?'}"
      ]
     },
     "execution_count": 14,
     "metadata": {},
     "output_type": "execute_result"
    }
   ],
   "source": [
    "assistant_message = chat_response.json()[\"choices\"][0][\"message\"]\n",
    "assistant_message"
   ]
  },
  {
   "attachments": {},
   "cell_type": "markdown",
   "metadata": {},
   "source": [
    "# Start fresh"
   ]
  },
  {
   "cell_type": "code",
   "execution_count": 16,
   "metadata": {},
   "outputs": [
    {
     "name": "stdout",
     "output_type": "stream",
     "text": [
      "\n",
      "You are Weather bot created by chajasc, You first greet the customer, and you MUST introduce yourself as -\n",
      "\"Hi I am Weather bot created by chajasc! How may I assist you today?\" an automated service to tell Weather infomation based on the location provided by the user. then collects the location informationDon't make assumptions about what values to plug into functions. Ask for clarification if a user request is ambiguous.\n",
      "You respond in a short, very conversational friendly style. \n"
     ]
    }
   ],
   "source": [
    "print(system_instruction)"
   ]
  },
  {
   "cell_type": "code",
   "execution_count": 20,
   "metadata": {},
   "outputs": [
    {
     "name": "stdout",
     "output_type": "stream",
     "text": [
      "\n",
      ">>>> complete_chat_response: \n",
      "{'id': 'chatcmpl-7zjCCX6ZQ81Tx6ES4FUr7XyuWz5MT', 'object': 'chat.completion', 'created': 1694946096, 'model': 'gpt-3.5-turbo-0613', 'choices': [{'index': 0, 'message': {'role': 'assistant', 'content': 'Hi! How can I assist you today?'}, 'finish_reason': 'stop'}], 'usage': {'prompt_tokens': 163, 'completion_tokens': 10, 'total_tokens': 173}}\n",
      "\n",
      ">>>> assistant message: \n",
      "{'role': 'assistant', 'content': 'Hi! How can I assist you today?'}\n"
     ]
    }
   ],
   "source": [
    "messages = list()\n",
    "messages.append({\"role\": \"system\", \"content\": system_instruction})\n",
    "\n",
    "\n",
    "user_message = \"Hi there!\"\n",
    "messages.append({\"role\": \"user\", \"content\": user_message})\n",
    "chat_response = chat_completion_request(messages = messages, functions = functions)\n",
    "print(f\"\\n>>>> complete_chat_response: \\n{chat_response.json()}\")\n",
    "assistant_message = chat_response.json()[\"choices\"][0][\"message\"]\n",
    "print(f\"\\n>>>> assistant message: \\n{assistant_message}\")"
   ]
  },
  {
   "cell_type": "code",
   "execution_count": 21,
   "metadata": {},
   "outputs": [
    {
     "data": {
      "text/plain": [
       "[{'role': 'system',\n",
       "  'content': '\\nYou are Weather bot created by chajasc, You first greet the customer, and you MUST introduce yourself as -\\n\"Hi I am Weather bot created by chajasc! How may I assist you today?\" an automated service to tell Weather infomation based on the location provided by the user. then collects the location informationDon\\'t make assumptions about what values to plug into functions. Ask for clarification if a user request is ambiguous.\\nYou respond in a short, very conversational friendly style. '},\n",
       " {'role': 'user', 'content': 'Hi there!'},\n",
       " {'role': 'assistant', 'content': 'Hi! How can I assist you today?'}]"
      ]
     },
     "execution_count": 21,
     "metadata": {},
     "output_type": "execute_result"
    }
   ],
   "source": [
    "messages.append(assistant_message) # to give context\n",
    "messages"
   ]
  },
  {
   "cell_type": "code",
   "execution_count": 23,
   "metadata": {},
   "outputs": [
    {
     "data": {
      "text/plain": [
       "[{'name': 'get_current_weather',\n",
       "  'description': 'Get the current weather',\n",
       "  'parameters': {'type': 'object',\n",
       "   'properties': {'location': {'type': 'string',\n",
       "     'description': 'The city and state, e.g. San Francisco, CA'}},\n",
       "   'required': ['location']}}]"
      ]
     },
     "execution_count": 23,
     "metadata": {},
     "output_type": "execute_result"
    }
   ],
   "source": [
    "functions"
   ]
  },
  {
   "cell_type": "code",
   "execution_count": 24,
   "metadata": {},
   "outputs": [
    {
     "name": "stdout",
     "output_type": "stream",
     "text": [
      "\n",
      ">>>> complete_chat_response: \n",
      "{'id': 'chatcmpl-7zjEf4KfyXrfdYTe9Uyni6fmNYSXo', 'object': 'chat.completion', 'created': 1694946249, 'model': 'gpt-3.5-turbo-0613', 'choices': [{'index': 0, 'message': {'role': 'assistant', 'content': None, 'function_call': {'name': 'get_current_weather', 'arguments': '{\\n  \"location\": \"Hong Kong\"\\n}'}}, 'finish_reason': 'function_call'}], 'usage': {'prompt_tokens': 202, 'completion_tokens': 17, 'total_tokens': 219}}\n",
      "\n",
      "\n",
      ">>>> assistant message: \n",
      "{'role': 'assistant', 'content': None, 'function_call': {'name': 'get_current_weather', 'arguments': '{\\n  \"location\": \"Hong Kong\"\\n}'}}\n"
     ]
    }
   ],
   "source": [
    "user_message = \"I want to know the weather at Hong Kong\"\n",
    "messages.append({\"role\": \"user\", \"content\": user_message})\n",
    "chat_response = chat_completion_request(messages = messages, functions = functions)\n",
    "print(f\"\\n>>>> complete_chat_response: \\n{chat_response.json()}\\n\")\n",
    "assistant_message = chat_response.json()[\"choices\"][0][\"message\"]\n",
    "print(f\"\\n>>>> assistant message: \\n{assistant_message}\")"
   ]
  },
  {
   "cell_type": "code",
   "execution_count": 25,
   "metadata": {},
   "outputs": [
    {
     "data": {
      "text/plain": [
       "{'name': 'get_current_weather', 'arguments': '{\\n  \"location\": \"Hong Kong\"\\n}'}"
      ]
     },
     "execution_count": 25,
     "metadata": {},
     "output_type": "execute_result"
    }
   ],
   "source": [
    "assistant_message.get(\"function_call\")"
   ]
  },
  {
   "cell_type": "code",
   "execution_count": 26,
   "metadata": {},
   "outputs": [
    {
     "data": {
      "text/plain": [
       "'get_current_weather'"
      ]
     },
     "execution_count": 26,
     "metadata": {},
     "output_type": "execute_result"
    }
   ],
   "source": [
    "assistant_message.get(\"function_call\").get(\"name\") # string\n"
   ]
  },
  {
   "cell_type": "code",
   "execution_count": 27,
   "metadata": {},
   "outputs": [
    {
     "data": {
      "text/plain": [
       "'{\\n  \"location\": \"Hong Kong\"\\n}'"
      ]
     },
     "execution_count": 27,
     "metadata": {},
     "output_type": "execute_result"
    }
   ],
   "source": [
    "assistant_message.get(\"function_call\").get(\"arguments\") # string\n"
   ]
  },
  {
   "cell_type": "code",
   "execution_count": 28,
   "metadata": {},
   "outputs": [],
   "source": [
    "import json\n",
    "\n",
    "def execute_function_call(assistant_message):\n",
    "    if assistant_message.get(\"function_call\").get(\"name\") == \"get_current_weather\":\n",
    "        location = json.loads(assistant_message.get(\"function_call\").get(\"arguments\") )[\"location\"]\n",
    "        results = get_current_weather(location)\n",
    "    else:\n",
    "        results = f\"Error: function {assistant_message['function_call']['name']} does not exist\"\n",
    "\n",
    "    return results"
   ]
  },
  {
   "cell_type": "code",
   "execution_count": 29,
   "metadata": {},
   "outputs": [
    {
     "name": "stdout",
     "output_type": "stream",
     "text": [
      "\n",
      ">>>> got the querystring as: {'q': 'Hong Kong'}\n",
      "\n",
      ">>>> got the RAPID API response as: \n",
      "{'location': {'name': 'Hong Kong', 'region': '', 'country': 'Hong Kong', 'lat': 22.28, 'lon': 114.15, 'tz_id': 'Asia/Hong_Kong', 'localtime_epoch': 1694946248, 'localtime': '2023-09-17 18:24'}, 'current': {'last_updated_epoch': 1694945700, 'last_updated': '2023-09-17 18:15', 'temp_c': 27.6, 'temp_f': 81.7, 'is_day': 1, 'condition': {'text': 'Partly cloudy', 'icon': '//cdn.weatherapi.com/weather/64x64/day/116.png', 'code': 1003}, 'wind_mph': 9.8, 'wind_kph': 15.8, 'wind_degree': 109, 'wind_dir': 'ESE', 'pressure_mb': 1009.0, 'pressure_in': 29.8, 'precip_mm': 0.0, 'precip_in': 0.0, 'humidity': 84, 'cloud': 26, 'feelslike_c': 31.9, 'feelslike_f': 89.4, 'vis_km': 10.0, 'vis_miles': 6.0, 'uv': 7.0, 'gust_mph': 13.9, 'gust_kph': 22.3}}\n"
     ]
    },
    {
     "data": {
      "text/plain": [
       "'{\"location\": {\"name\": \"Hong Kong\", \"region\": \"\", \"country\": \"Hong Kong\", \"lat\": 22.28, \"lon\": 114.15, \"tz_id\": \"Asia/Hong_Kong\", \"localtime_epoch\": 1694946248, \"localtime\": \"2023-09-17 18:24\"}, \"current\": {\"last_updated_epoch\": 1694945700, \"last_updated\": \"2023-09-17 18:15\", \"temp_c\": 27.6, \"temp_f\": 81.7, \"is_day\": 1, \"condition\": {\"text\": \"Partly cloudy\", \"icon\": \"//cdn.weatherapi.com/weather/64x64/day/116.png\", \"code\": 1003}, \"wind_mph\": 9.8, \"wind_kph\": 15.8, \"wind_degree\": 109, \"wind_dir\": \"ESE\", \"pressure_mb\": 1009.0, \"pressure_in\": 29.8, \"precip_mm\": 0.0, \"precip_in\": 0.0, \"humidity\": 84, \"cloud\": 26, \"feelslike_c\": 31.9, \"feelslike_f\": 89.4, \"vis_km\": 10.0, \"vis_miles\": 6.0, \"uv\": 7.0, \"gust_mph\": 13.9, \"gust_kph\": 22.3}}'"
      ]
     },
     "execution_count": 29,
     "metadata": {},
     "output_type": "execute_result"
    }
   ],
   "source": [
    "results = execute_function_call(assistant_message)\n",
    "content = json.dumps(results)\n",
    "content"
   ]
  },
  {
   "cell_type": "code",
   "execution_count": 30,
   "metadata": {},
   "outputs": [
    {
     "name": "stdout",
     "output_type": "stream",
     "text": [
      "\n",
      ">>>> recieved message: {'id': 'chatcmpl-7zjFvsFZ9xs0XuF2IumNSR5bbdxeI', 'object': 'chat.completion', 'created': 1694946327, 'model': 'gpt-3.5-turbo-0613', 'choices': [{'index': 0, 'message': {'role': 'assistant', 'content': 'The current weather in Hong Kong is partly cloudy with a temperature of 27.6°C (81.7°F). It feels like 31.9°C (89.4°F) and the wind is coming from the east-southeast at a speed of 15.8 kph (9.8 mph). The air pressure is at 1009.0 mb (29.8 in) and there is no precipitation. The humidity levels are at 84% and visibility is good at 10.0 km (6.0 miles). The UV index is 7.0.'}, 'finish_reason': 'stop'}], 'usage': {'prompt_tokens': 493, 'completion_tokens': 121, 'total_tokens': 614}}\n",
      "\n",
      ">>>> natural response: \n",
      "The current weather in Hong Kong is partly cloudy with a temperature of 27.6°C (81.7°F). It feels like 31.9°C (89.4°F) and the wind is coming from the east-southeast at a speed of 15.8 kph (9.8 mph). The air pressure is at 1009.0 mb (29.8 in) and there is no precipitation. The humidity levels are at 84% and visibility is good at 10.0 km (6.0 miles). The UV index is 7.0.\n"
     ]
    }
   ],
   "source": [
    "def get_natural_response(content):\n",
    "    convert_prompt = f\"convert this results from weather api to a natural english sentence: {content}\"\n",
    "    messages.append({\"role\": \"user\", \"content\": convert_prompt})\n",
    "    convert_prompt_response = chat_completion_request(messages=messages)\n",
    "    print(f\"\\n>>>> recieved message: {convert_prompt_response.json()}\")\n",
    "    new_assistant_message = convert_prompt_response.json()[\"choices\"][0][\"message\"]\n",
    "    messages.append(new_assistant_message)\n",
    "    content = new_assistant_message[\"content\"]\n",
    "    print(f\"\\n>>>> natural response: \\n{content}\")\n",
    "    return content\n",
    "\n",
    "\n",
    "content = get_natural_response(content)\n"
   ]
  },
  {
   "cell_type": "code",
   "execution_count": 31,
   "metadata": {},
   "outputs": [
    {
     "data": {
      "text/plain": [
       "[{'role': 'system',\n",
       "  'content': '\\nYou are Weather bot created by chajasc, You first greet the customer, and you MUST introduce yourself as -\\n\"Hi I am Weather bot created by chajasc! How may I assist you today?\" an automated service to tell Weather infomation based on the location provided by the user. then collects the location informationDon\\'t make assumptions about what values to plug into functions. Ask for clarification if a user request is ambiguous.\\nYou respond in a short, very conversational friendly style. '},\n",
       " {'role': 'user', 'content': 'Hi there!'},\n",
       " {'role': 'assistant', 'content': 'Hi! How can I assist you today?'},\n",
       " {'role': 'user', 'content': 'I want to know the weather at Hong Kong'},\n",
       " {'role': 'user', 'content': 'I want to know the weather at Hong Kong'},\n",
       " {'role': 'user',\n",
       "  'content': 'convert this results from weather api to a natural english sentence: {\"location\": {\"name\": \"Hong Kong\", \"region\": \"\", \"country\": \"Hong Kong\", \"lat\": 22.28, \"lon\": 114.15, \"tz_id\": \"Asia/Hong_Kong\", \"localtime_epoch\": 1694946248, \"localtime\": \"2023-09-17 18:24\"}, \"current\": {\"last_updated_epoch\": 1694945700, \"last_updated\": \"2023-09-17 18:15\", \"temp_c\": 27.6, \"temp_f\": 81.7, \"is_day\": 1, \"condition\": {\"text\": \"Partly cloudy\", \"icon\": \"//cdn.weatherapi.com/weather/64x64/day/116.png\", \"code\": 1003}, \"wind_mph\": 9.8, \"wind_kph\": 15.8, \"wind_degree\": 109, \"wind_dir\": \"ESE\", \"pressure_mb\": 1009.0, \"pressure_in\": 29.8, \"precip_mm\": 0.0, \"precip_in\": 0.0, \"humidity\": 84, \"cloud\": 26, \"feelslike_c\": 31.9, \"feelslike_f\": 89.4, \"vis_km\": 10.0, \"vis_miles\": 6.0, \"uv\": 7.0, \"gust_mph\": 13.9, \"gust_kph\": 22.3}}'},\n",
       " {'role': 'assistant',\n",
       "  'content': 'The current weather in Hong Kong is partly cloudy with a temperature of 27.6°C (81.7°F). It feels like 31.9°C (89.4°F) and the wind is coming from the east-southeast at a speed of 15.8 kph (9.8 mph). The air pressure is at 1009.0 mb (29.8 in) and there is no precipitation. The humidity levels are at 84% and visibility is good at 10.0 km (6.0 miles). The UV index is 7.0.'}]"
      ]
     },
     "execution_count": 31,
     "metadata": {},
     "output_type": "execute_result"
    }
   ],
   "source": [
    "messages"
   ]
  },
  {
   "cell_type": "code",
   "execution_count": null,
   "metadata": {},
   "outputs": [],
   "source": []
  }
 ],
 "metadata": {
  "kernelspec": {
   "display_name": "Python 3",
   "language": "python",
   "name": "python3"
  },
  "language_info": {
   "codemirror_mode": {
    "name": "ipython",
    "version": 3
   },
   "file_extension": ".py",
   "mimetype": "text/x-python",
   "name": "python",
   "nbconvert_exporter": "python",
   "pygments_lexer": "ipython3",
   "version": "3.9.18"
  },
  "orig_nbformat": 4
 },
 "nbformat": 4,
 "nbformat_minor": 2
}
